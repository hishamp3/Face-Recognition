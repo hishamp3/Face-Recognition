{
 "cells": [
  {
   "cell_type": "markdown",
   "id": "f9b658d5",
   "metadata": {},
   "source": [
    "## Face detection"
   ]
  },
  {
   "cell_type": "markdown",
   "id": "c1702665",
   "metadata": {},
   "source": [
    "#### OpeCV Library"
   ]
  },
  {
   "cell_type": "markdown",
   "id": "1346c4f4",
   "metadata": {},
   "source": [
    "OpenCV (Open Source Computer Vision Library) is a library of programming functions mainly aimed at real-time computer vision.The library is cross-platform and free for use under the open-source Apache 2 License.OpenCV features GPU acceleration for real-time operations."
   ]
  },
  {
   "cell_type": "code",
   "execution_count": 1,
   "id": "c152bb60",
   "metadata": {},
   "outputs": [],
   "source": [
    "# import OpenCv \n",
    "import cv2\n",
    "import os"
   ]
  },
  {
   "cell_type": "markdown",
   "id": "ea5ff14d",
   "metadata": {},
   "source": [
    "The face classifier is downloaded when installing OpenCv library"
   ]
  },
  {
   "cell_type": "code",
   "execution_count": 2,
   "id": "2042aba0",
   "metadata": {},
   "outputs": [],
   "source": [
    "classifierPath=os.path.dirname(cv2.__file__)+\"/data/haarcascade_frontalface_default.xml\"\n",
    "faceClassifier = cv2.CascadeClassifier(classifierPath)"
   ]
  },
  {
   "cell_type": "markdown",
   "id": "f90d7041",
   "metadata": {},
   "source": [
    "#### Face recognition using Webcam"
   ]
  },
  {
   "cell_type": "code",
   "execution_count": 3,
   "id": "ae8906ad",
   "metadata": {},
   "outputs": [],
   "source": [
    "def Face_recognition_video():\n",
    "    #webcam video\n",
    "    video_capture = cv2.VideoCapture(0)\n",
    "    #video_capture = cv2.VideoCapture('RS.mp4')\n",
    "\n",
    "    while True:\n",
    "        #loop until exit key\n",
    "        ret, frames = video_capture.read()\n",
    "\n",
    "        # frames converted to Grayscale\n",
    "        gray = cv2.cvtColor(frames, cv2.COLOR_BGR2GRAY)\n",
    "\n",
    "        # setting parameters\n",
    "        faces = faceClassifier.detectMultiScale(\n",
    "            gray,\n",
    "            scaleFactor=1.1,\n",
    "            minNeighbors=5,\n",
    "            minSize=(30, 30),\n",
    "            flags=cv2.CASCADE_SCALE_IMAGE\n",
    "        )\n",
    "\n",
    "        # Drawing rectangle around the detected face\n",
    "        for (x, y, w, h) in faces:\n",
    "            cv2.rectangle(frames, (x, y), (x+w, y+h), (0, 255, 0), 2)\n",
    "\n",
    "        # Display the frame with rectangle \n",
    "        cv2.imshow('Video', frames)\n",
    "    \n",
    "        # Press e to exit\n",
    "        if cv2.waitKey(1) & 0xFF == ord('e'):\n",
    "            break\n",
    "        \n",
    "    video_capture.release()\n",
    "    cv2.destroyAllWindows()"
   ]
  },
  {
   "cell_type": "markdown",
   "id": "6fa1a589",
   "metadata": {},
   "source": [
    "#### Face Recognition using Image"
   ]
  },
  {
   "cell_type": "code",
   "execution_count": 4,
   "id": "719531dc",
   "metadata": {},
   "outputs": [],
   "source": [
    "def Face_recognition_Image(filename):\n",
    "    \n",
    "    # Read Image\n",
    "    original_img = cv2.imread(filename)\n",
    "\n",
    "    # original to grayscale\n",
    "    gray_img = cv2.cvtColor(original_img,cv2.COLOR_BGR2GRAY)\n",
    "    faces = faceClassifier.detectMultiScale(gray_img, 1.1, 4)\n",
    "\n",
    "    # Drawing rectangle around the detected face\n",
    "    for (x, y, w, h) in faces:\n",
    "        cv2.rectangle(original_img, (x, y), (x+w, y+h), (255, 0, 0), 2)\n",
    "\n",
    "    # Display the final image\n",
    "    cv2.imshow('Image',original_img)\n",
    "    \n",
    "    # Destroy all cv2 windows\n",
    "    cv2.waitKey(0)\n",
    "    cv2.destroyAllWindows()"
   ]
  },
  {
   "cell_type": "code",
   "execution_count": 5,
   "id": "334269c7",
   "metadata": {},
   "outputs": [],
   "source": [
    "def main():\n",
    "    Face_recognition_video()\n",
    "    Face_recognition_Image('face.jpg')\n",
    "    Face_recognition_Image('bmw.jpg')"
   ]
  },
  {
   "cell_type": "code",
   "execution_count": 6,
   "id": "4e0c7a2a",
   "metadata": {},
   "outputs": [],
   "source": [
    "if __name__ == \"__main__\":\n",
    "    main()"
   ]
  },
  {
   "cell_type": "code",
   "execution_count": null,
   "id": "6986429a",
   "metadata": {},
   "outputs": [],
   "source": []
  }
 ],
 "metadata": {
  "kernelspec": {
   "display_name": "Python 3 (ipykernel)",
   "language": "python",
   "name": "python3"
  },
  "language_info": {
   "codemirror_mode": {
    "name": "ipython",
    "version": 3
   },
   "file_extension": ".py",
   "mimetype": "text/x-python",
   "name": "python",
   "nbconvert_exporter": "python",
   "pygments_lexer": "ipython3",
   "version": "3.9.12"
  }
 },
 "nbformat": 4,
 "nbformat_minor": 5
}
